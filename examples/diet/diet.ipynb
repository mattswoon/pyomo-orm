{
 "cells": [
  {
   "cell_type": "code",
   "execution_count": 1,
   "metadata": {
    "collapsed": true
   },
   "outputs": [],
   "source": [
    "from pyomo_orm.core.database import Session, bind_engine\n",
    "\n",
    "from models import *"
   ]
  },
  {
   "cell_type": "code",
   "execution_count": 2,
   "metadata": {},
   "outputs": [
    {
     "data": {
      "text/plain": [
       "Engine(sqlite:///diet.sqlite)"
      ]
     },
     "execution_count": 2,
     "metadata": {},
     "output_type": "execute_result"
    }
   ],
   "source": [
    "bind_engine('sqlite:///diet.sqlite')"
   ]
  },
  {
   "cell_type": "code",
   "execution_count": 3,
   "metadata": {
    "collapsed": true
   },
   "outputs": [],
   "source": [
    "from pyomo.environ import AbstractModel\n",
    "\n",
    "diet = AbstractModel()"
   ]
  },
  {
   "cell_type": "code",
   "execution_count": 4,
   "metadata": {},
   "outputs": [],
   "source": [
    "# Sets\n",
    "diet.food = Food.create_set()\n",
    "diet.nutrients = Nutrient.create_set()"
   ]
  },
  {
   "cell_type": "code",
   "execution_count": 5,
   "metadata": {},
   "outputs": [],
   "source": [
    "# index params\n",
    "diet.cost = Food.create_param(diet, from_attr='cost', indexed_by='id')\n",
    "diet.volume_per_serving = Food.create_param(diet, from_attr='volume_per_serving', indexed_by='id')\n",
    "diet.nutrient_lower_bound = Nutrient.create_param(diet, from_attr='lower_bound', indexed_by='id')\n",
    "diet.nutrient_upper_bound = Nutrient.create_param(diet, from_attr='upper_bound', indexed_by='id')"
   ]
  },
  {
   "cell_type": "code",
   "execution_count": 8,
   "metadata": {},
   "outputs": [],
   "source": [
    "# multiindex params\n",
    "diet.nutrient_amount = FoodNutrientAmount.create_param(diet, from_attr='amount', indexed_by=('food_id', 'nutrient_id'))"
   ]
  },
  {
   "cell_type": "code",
   "execution_count": 9,
   "metadata": {},
   "outputs": [
    {
     "data": {
      "text/plain": [
       "['food',\n",
       " 'nutrients',\n",
       " 'cost',\n",
       " 'volume_per_serving',\n",
       " 'nutrient_lower_bound',\n",
       " 'nutrient_upper_bound',\n",
       " 'nutrient_amount_index',\n",
       " 'nutrient_amount']"
      ]
     },
     "execution_count": 9,
     "metadata": {},
     "output_type": "execute_result"
    }
   ],
   "source": [
    "[c.name for c in diet.component_objects()]"
   ]
  },
  {
   "cell_type": "code",
   "execution_count": null,
   "metadata": {
    "collapsed": true
   },
   "outputs": [],
   "source": []
  }
 ],
 "metadata": {
  "kernelspec": {
   "display_name": "Python 3",
   "language": "python",
   "name": "python3"
  },
  "language_info": {
   "codemirror_mode": {
    "name": "ipython",
    "version": 3
   },
   "file_extension": ".py",
   "mimetype": "text/x-python",
   "name": "python",
   "nbconvert_exporter": "python",
   "pygments_lexer": "ipython3",
   "version": "3.6.1"
  }
 },
 "nbformat": 4,
 "nbformat_minor": 2
}
