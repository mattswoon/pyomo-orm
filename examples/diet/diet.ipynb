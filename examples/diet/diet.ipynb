{
 "cells": [
  {
   "cell_type": "code",
   "execution_count": 1,
   "metadata": {},
   "outputs": [],
   "source": [
    "from pyomo_orm.core.database import Session, bind_engine\n",
    "from pyomo_orm.core.utils import as_dataframe\n",
    "\n",
    "from models import *"
   ]
  },
  {
   "cell_type": "code",
   "execution_count": 2,
   "metadata": {},
   "outputs": [
    {
     "data": {
      "text/plain": [
       "Engine(sqlite:///diet.sqlite)"
      ]
     },
     "execution_count": 2,
     "metadata": {},
     "output_type": "execute_result"
    }
   ],
   "source": [
    "bind_engine('sqlite:///diet.sqlite')"
   ]
  },
  {
   "cell_type": "code",
   "execution_count": 3,
   "metadata": {
    "collapsed": true
   },
   "outputs": [],
   "source": [
    "from pyomo.environ import AbstractModel, Param, PositiveReals, NonNegativeIntegers, Objective, Constraint, NonNegativeReals\n",
    "\n",
    "diet = AbstractModel()\n",
    "infinity = float('inf')"
   ]
  },
  {
   "cell_type": "code",
   "execution_count": 4,
   "metadata": {
    "collapsed": true
   },
   "outputs": [],
   "source": [
    "# Sets\n",
    "diet.food = Food.create_set()\n",
    "diet.nutrients = Nutrient.create_set()"
   ]
  },
  {
   "cell_type": "code",
   "execution_count": 5,
   "metadata": {
    "collapsed": true
   },
   "outputs": [],
   "source": [
    "# index params\n",
    "diet.cost = Food.create_param(diet, from_attr='cost', indexed_by='id')\n",
    "diet.volume_per_serving = Food.create_param(diet, from_attr='volume_per_serving', indexed_by='id')\n",
    "diet.nutrient_lower_bound = Nutrient.create_param(diet, from_attr='lower_bound', indexed_by='id', within=NonNegativeReals, default=0.0)\n",
    "diet.nutrient_upper_bound = Nutrient.create_param(diet, from_attr='upper_bound', indexed_by='id', within=NonNegativeReals, default=infinity)"
   ]
  },
  {
   "cell_type": "code",
   "execution_count": 6,
   "metadata": {
    "collapsed": true
   },
   "outputs": [],
   "source": [
    "# multiindex params\n",
    "diet.nutrient_amount = FoodNutrientAmount.create_param(diet, from_attr='amount', indexed_by=('food_id', 'nutrient_id'))"
   ]
  },
  {
   "cell_type": "code",
   "execution_count": 7,
   "metadata": {
    "collapsed": true
   },
   "outputs": [],
   "source": [
    "diet.volume_max = Param(within=PositiveReals)"
   ]
  },
  {
   "cell_type": "code",
   "execution_count": 8,
   "metadata": {
    "collapsed": true
   },
   "outputs": [],
   "source": [
    "# variable\n",
    "diet.amount_in_diet = Food.create_var(diet, from_attr='amount_in_diet', indexed_by='id', within=NonNegativeIntegers)"
   ]
  },
  {
   "cell_type": "code",
   "execution_count": 9,
   "metadata": {
    "collapsed": true
   },
   "outputs": [],
   "source": [
    "# constraints\n",
    "def cost_rule(m):\n",
    "    return (sum(m.cost[i] * m.amount_in_diet[i] for i in m.food))\n",
    "diet.objective = Objective(rule=cost_rule)\n",
    "\n",
    "def nutrient_rule_lower(m, j):\n",
    "    value = sum(m.nutrient_amount[i, j] * m.amount_in_diet[i] for i in m.food)\n",
    "    return m.nutrient_lower_bound[j] <= value\n",
    "\n",
    "def nutrient_rule_upper(m,j):\n",
    "    value = sum(m.nutrient_amount[i, j] * m.amount_in_diet[i] for i in m.food)\n",
    "    return value <= m.nutrient_upper_bound[j]\n",
    "diet.nutrient_constraint_lower = Constraint(diet.nutrients, rule=nutrient_rule_lower)\n",
    "diet.nutrient_constraint_upper = Constraint(diet.nutrients, rule=nutrient_rule_upper)\n",
    "\n",
    "def volume_rule(m):\n",
    "    return sum(m.volume_per_serving[i] * m.amount_in_diet[i] for i in m.food) <= m.volume_max\n",
    "diet.volume_constraint = Constraint(rule=volume_rule)"
   ]
  },
  {
   "cell_type": "code",
   "execution_count": 10,
   "metadata": {},
   "outputs": [],
   "source": [
    "from pyomo_orm.core.utils import create_data_dict\n",
    "\n",
    "di = create_data_dict(diet, 'diet')\n",
    "di['diet']['volume_max'] = {None: 75.0}"
   ]
  },
  {
   "cell_type": "code",
   "execution_count": 11,
   "metadata": {
    "scrolled": true
   },
   "outputs": [
    {
     "data": {
      "text/plain": [
       "{'diet': {'cost': {1: 1.84,\n",
       "   2: 2.19,\n",
       "   3: 1.84,\n",
       "   4: 1.44,\n",
       "   5: 2.29,\n",
       "   6: 0.77,\n",
       "   7: 1.29,\n",
       "   8: 0.6,\n",
       "   9: 0.72},\n",
       "  'food': {None: [1, 2, 3, 4, 5, 6, 7, 8, 9]},\n",
       "  'nutrient_amount': {(1, 1): 510.0,\n",
       "   (1, 2): 34.0,\n",
       "   (1, 3): 28.0,\n",
       "   (1, 4): 15.0,\n",
       "   (1, 5): 6.0,\n",
       "   (1, 6): 30.0,\n",
       "   (1, 7): 20.0,\n",
       "   (2, 1): 370.0,\n",
       "   (2, 2): 35.0,\n",
       "   (2, 3): 24.0,\n",
       "   (2, 4): 15.0,\n",
       "   (2, 5): 10.0,\n",
       "   (2, 6): 20.0,\n",
       "   (2, 7): 20.0,\n",
       "   (3, 1): 500.0,\n",
       "   (3, 2): 42.0,\n",
       "   (3, 3): 25.0,\n",
       "   (3, 4): 6.0,\n",
       "   (3, 5): 2.0,\n",
       "   (3, 6): 25.0,\n",
       "   (3, 7): 20.0,\n",
       "   (4, 1): 370.0,\n",
       "   (4, 2): 38.0,\n",
       "   (4, 3): 14.0,\n",
       "   (4, 4): 2.0,\n",
       "   (4, 5): 0.0,\n",
       "   (4, 6): 15.0,\n",
       "   (4, 7): 10.0,\n",
       "   (5, 1): 400.0,\n",
       "   (5, 2): 42.0,\n",
       "   (5, 3): 31.0,\n",
       "   (5, 4): 8.0,\n",
       "   (5, 5): 15.0,\n",
       "   (5, 6): 15.0,\n",
       "   (5, 7): 8.0,\n",
       "   (6, 1): 220.0,\n",
       "   (6, 2): 26.0,\n",
       "   (6, 3): 3.0,\n",
       "   (6, 4): 0.0,\n",
       "   (6, 5): 15.0,\n",
       "   (6, 6): 0.0,\n",
       "   (6, 7): 2.0,\n",
       "   (7, 1): 345.0,\n",
       "   (7, 2): 27.0,\n",
       "   (7, 3): 15.0,\n",
       "   (7, 4): 4.0,\n",
       "   (7, 5): 0.0,\n",
       "   (7, 6): 20.0,\n",
       "   (7, 7): 15.0,\n",
       "   (8, 1): 110.0,\n",
       "   (8, 2): 12.0,\n",
       "   (8, 3): 9.0,\n",
       "   (8, 4): 10.0,\n",
       "   (8, 5): 4.0,\n",
       "   (8, 6): 30.0,\n",
       "   (8, 7): 0.0,\n",
       "   (9, 1): 80.0,\n",
       "   (9, 2): 20.0,\n",
       "   (9, 3): 1.0,\n",
       "   (9, 4): 2.0,\n",
       "   (9, 5): 120.0,\n",
       "   (9, 6): 2.0,\n",
       "   (9, 7): 2.0},\n",
       "  'nutrient_lower_bound': {1: 2000.0,\n",
       "   2: 350.0,\n",
       "   3: 55.0,\n",
       "   4: 100.0,\n",
       "   5: 100.0,\n",
       "   6: 100.0,\n",
       "   7: 100.0},\n",
       "  'nutrient_upper_bound': {2: 375.0},\n",
       "  'nutrients': {None: [1, 2, 3, 4, 5, 6, 7]},\n",
       "  'volume_max': {None: 75.0},\n",
       "  'volume_per_serving': {1: 4.0,\n",
       "   2: 7.5,\n",
       "   3: 3.5,\n",
       "   4: 5.0,\n",
       "   5: 7.3,\n",
       "   6: 2.6,\n",
       "   7: 4.1,\n",
       "   8: 8.0,\n",
       "   9: 12.0}}}"
      ]
     },
     "execution_count": 11,
     "metadata": {},
     "output_type": "execute_result"
    }
   ],
   "source": [
    "di"
   ]
  },
  {
   "cell_type": "code",
   "execution_count": 12,
   "metadata": {
    "scrolled": true
   },
   "outputs": [
    {
     "name": "stdout",
     "output_type": "stream",
     "text": [
      "Welcome to the CBC MILP Solver \n",
      "Version: 2.9.7 \n",
      "Build Date: Oct 10 2015 \n",
      "Revision Number: 2226 \n",
      "\n",
      "command line - C:\\Program Files (x86)\\COIN-OR\\1.8.0\\win32-msvc12\\bin\\cbc.exe -printingOptions all -import C:\\Users\\tom\\AppData\\Local\\Temp\\tmpk1jdj5qf.pyomo.lp -stat=1 -solve -solu C:\\Users\\tom\\AppData\\Local\\Temp\\tmpk1jdj5qf.pyomo.soln (default strategy 1)\n",
      "Option for printingOptions changed from normal to all\n",
      "Presolve 9 (-1) rows, 9 (-1) columns and 76 (-1) elements\n",
      "Statistics for presolved model\n",
      "Original problem has 9 integers (0 of which binary)\n",
      "Presolved problem has 9 integers (0 of which binary)\n",
      "==== 0 zero objective 8 different\n",
      "1 variables have objective of 0.6\n",
      "1 variables have objective of 0.72\n",
      "1 variables have objective of 0.77\n",
      "1 variables have objective of 1.29\n",
      "1 variables have objective of 1.44\n",
      "2 variables have objective of 1.84\n",
      "1 variables have objective of 2.19\n",
      "1 variables have objective of 2.29\n",
      "==== absolute objective values 8 different\n",
      "1 variables have objective of 0.6\n",
      "1 variables have objective of 0.72\n",
      "1 variables have objective of 0.77\n",
      "1 variables have objective of 1.29\n",
      "1 variables have objective of 1.44\n",
      "2 variables have objective of 1.84\n",
      "1 variables have objective of 2.19\n",
      "1 variables have objective of 2.29\n",
      "==== for integers 0 zero objective 8 different\n",
      "1 variables have objective of 0.6\n",
      "1 variables have objective of 0.72\n",
      "1 variables have objective of 0.77\n",
      "1 variables have objective of 1.29\n",
      "1 variables have objective of 1.44\n",
      "2 variables have objective of 1.84\n",
      "1 variables have objective of 2.19\n",
      "1 variables have objective of 2.29\n",
      "==== for integers absolute objective values 8 different\n",
      "1 variables have objective of 0.6\n",
      "1 variables have objective of 0.72\n",
      "1 variables have objective of 0.77\n",
      "1 variables have objective of 1.29\n",
      "1 variables have objective of 1.44\n",
      "2 variables have objective of 1.84\n",
      "1 variables have objective of 2.19\n",
      "1 variables have objective of 2.29\n",
      "===== end objective counts\n",
      "\n",
      "\n",
      "Problem has 9 rows, 9 columns (9 with objective) and 76 elements\n",
      "Column breakdown:\n",
      "9 of type 0.0->inf, 0 of type 0.0->up, 0 of type lo->inf, \n",
      "0 of type lo->up, 0 of type free, 0 of type fixed, \n",
      "0 of type -inf->0.0, 0 of type -inf->up, 0 of type 0.0->1.0 \n",
      "Row breakdown:\n",
      "0 of type E 0.0, 0 of type E 1.0, 0 of type E -1.0, \n",
      "0 of type E other, 0 of type G 0.0, 0 of type G 1.0, \n",
      "7 of type G other, 0 of type L 0.0, 0 of type L 1.0, \n",
      "2 of type L other, 0 of type Range 0.0->1.0, 0 of type Range other, \n",
      "0 of type Free \n",
      "Continuous objective value is 14.8557 - 0.00 seconds\n",
      "Cgl0003I 0 fixed, 0 tightened bounds, 1 strengthened rows, 0 substitutions\n",
      "Cgl0004I processed model has 8 rows, 9 columns (9 integer (0 of which binary)) and 67 elements\n",
      "Cutoff increment increased from 1e-005 to 0.00999\n",
      "Cbc0012I Integer solution of 15.45 found by DiveCoefficient after 0 iterations and 0 nodes (0.01 seconds)\n",
      "Cbc0038I Full problem 8 rows 9 columns, reduced to 8 rows 4 columns\n",
      "Cbc0012I Integer solution of 15.28 found by RINS after 0 iterations and 0 nodes (0.01 seconds)\n",
      "Cbc0031I 3 added rows had average density of 7\n",
      "Cbc0013I At root node, 3 cuts changed objective from 14.855738 to 14.999184 in 100 passes\n",
      "Cbc0014I Cut generator 0 (Probing) - 0 row cuts average 0.0 elements, 1 column cuts (1 active)  in 0.007 seconds - new frequency is -100\n",
      "Cbc0014I Cut generator 1 (Gomory) - 231 row cuts average 7.0 elements, 0 column cuts (0 active)  in 0.030 seconds - new frequency is 1\n",
      "Cbc0014I Cut generator 2 (Knapsack) - 0 row cuts average 0.0 elements, 0 column cuts (0 active)  in 0.003 seconds - new frequency is -100\n",
      "Cbc0014I Cut generator 3 (Clique) - 0 row cuts average 0.0 elements, 0 column cuts (0 active)  in 0.000 seconds - new frequency is -100\n",
      "Cbc0014I Cut generator 4 (MixedIntegerRounding2) - 0 row cuts average 0.0 elements, 0 column cuts (0 active)  in 0.006 seconds - new frequency is -100\n",
      "Cbc0014I Cut generator 5 (FlowCover) - 0 row cuts average 0.0 elements, 0 column cuts (0 active)  in 0.008 seconds - new frequency is -100\n",
      "Cbc0010I After 0 nodes, 1 on tree, 15.28 best solution, best possible 14.999186 (0.11 seconds)\n",
      "Cbc0012I Integer solution of 15.05 found by DiveCoefficient after 442 iterations and 3 nodes (0.11 seconds)\n",
      "Cbc0001I Search completed - best objective 15.05, took 524 iterations and 10 nodes (0.12 seconds)\n",
      "Cbc0032I Strong branching done 44 times (95 iterations), fathomed 1 nodes and fixed 1 variables\n",
      "Cbc0035I Maximum depth 4, 1 variables fixed on reduced cost\n",
      "Cuts at root node changed objective from 14.8557 to 14.9992\n",
      "Probing was tried 100 times and created 1 cuts of which 0 were active after adding rounds of cuts (0.007 seconds)\n",
      "Gomory was tried 126 times and created 265 cuts of which 0 were active after adding rounds of cuts (0.037 seconds)\n",
      "Knapsack was tried 100 times and created 0 cuts of which 0 were active after adding rounds of cuts (0.003 seconds)\n",
      "Clique was tried 100 times and created 0 cuts of which 0 were active after adding rounds of cuts (0.000 seconds)\n",
      "MixedIntegerRounding2 was tried 100 times and created 0 cuts of which 0 were active after adding rounds of cuts (0.006 seconds)\n",
      "FlowCover was tried 100 times and created 0 cuts of which 0 were active after adding rounds of cuts (0.008 seconds)\n",
      "TwoMirCuts was tried 1 times and created 0 cuts of which 0 were active after adding rounds of cuts (0.000 seconds)\n",
      "\n",
      "Result - Optimal solution found\n",
      "\n",
      "Objective value:                15.05000000\n",
      "Enumerated nodes:               10\n",
      "Total iterations:               524\n",
      "Time (CPU seconds):             0.13\n",
      "Time (Wallclock seconds):       0.13\n",
      "\n",
      "Total time (CPU seconds):       0.14   (Wallclock seconds):       0.14\n",
      "\n"
     ]
    }
   ],
   "source": [
    "from pyomo.environ import SolverFactory\n",
    "\n",
    "instance = diet.create_instance(data=di, namespace='diet')\n",
    "solver = SolverFactory('cbc')\n",
    "results = solver.solve(instance, tee=True)"
   ]
  },
  {
   "cell_type": "code",
   "execution_count": 13,
   "metadata": {},
   "outputs": [
    {
     "data": {
      "text/html": [
       "<div>\n",
       "<style>\n",
       "    .dataframe thead tr:only-child th {\n",
       "        text-align: right;\n",
       "    }\n",
       "\n",
       "    .dataframe thead th {\n",
       "        text-align: left;\n",
       "    }\n",
       "\n",
       "    .dataframe tbody tr th {\n",
       "        vertical-align: top;\n",
       "    }\n",
       "</style>\n",
       "<table border=\"1\" class=\"dataframe\">\n",
       "  <thead>\n",
       "    <tr style=\"text-align: right;\">\n",
       "      <th></th>\n",
       "      <th>id</th>\n",
       "      <th>name</th>\n",
       "      <th>cost</th>\n",
       "      <th>volume_per_serving</th>\n",
       "      <th>amount_in_diet</th>\n",
       "      <th>model_run_id</th>\n",
       "    </tr>\n",
       "  </thead>\n",
       "  <tbody>\n",
       "    <tr>\n",
       "      <th>0</th>\n",
       "      <td>1</td>\n",
       "      <td>Cheeseburger</td>\n",
       "      <td>1.84</td>\n",
       "      <td>4.0</td>\n",
       "      <td>None</td>\n",
       "      <td>None</td>\n",
       "    </tr>\n",
       "    <tr>\n",
       "      <th>1</th>\n",
       "      <td>2</td>\n",
       "      <td>Ham Sandwich</td>\n",
       "      <td>2.19</td>\n",
       "      <td>7.5</td>\n",
       "      <td>None</td>\n",
       "      <td>None</td>\n",
       "    </tr>\n",
       "    <tr>\n",
       "      <th>2</th>\n",
       "      <td>3</td>\n",
       "      <td>Hamburger</td>\n",
       "      <td>1.84</td>\n",
       "      <td>3.5</td>\n",
       "      <td>None</td>\n",
       "      <td>None</td>\n",
       "    </tr>\n",
       "    <tr>\n",
       "      <th>3</th>\n",
       "      <td>4</td>\n",
       "      <td>Fish Sandwich</td>\n",
       "      <td>1.44</td>\n",
       "      <td>5.0</td>\n",
       "      <td>None</td>\n",
       "      <td>None</td>\n",
       "    </tr>\n",
       "    <tr>\n",
       "      <th>4</th>\n",
       "      <td>5</td>\n",
       "      <td>Chicken Sandwich</td>\n",
       "      <td>2.29</td>\n",
       "      <td>7.3</td>\n",
       "      <td>None</td>\n",
       "      <td>None</td>\n",
       "    </tr>\n",
       "    <tr>\n",
       "      <th>5</th>\n",
       "      <td>6</td>\n",
       "      <td>Fries</td>\n",
       "      <td>0.77</td>\n",
       "      <td>2.6</td>\n",
       "      <td>None</td>\n",
       "      <td>None</td>\n",
       "    </tr>\n",
       "    <tr>\n",
       "      <th>6</th>\n",
       "      <td>7</td>\n",
       "      <td>Sausage Biscuit</td>\n",
       "      <td>1.29</td>\n",
       "      <td>4.1</td>\n",
       "      <td>None</td>\n",
       "      <td>None</td>\n",
       "    </tr>\n",
       "    <tr>\n",
       "      <th>7</th>\n",
       "      <td>8</td>\n",
       "      <td>Lowfat Milk</td>\n",
       "      <td>0.60</td>\n",
       "      <td>8.0</td>\n",
       "      <td>None</td>\n",
       "      <td>None</td>\n",
       "    </tr>\n",
       "    <tr>\n",
       "      <th>8</th>\n",
       "      <td>9</td>\n",
       "      <td>Orange Juice</td>\n",
       "      <td>0.72</td>\n",
       "      <td>12.0</td>\n",
       "      <td>None</td>\n",
       "      <td>None</td>\n",
       "    </tr>\n",
       "  </tbody>\n",
       "</table>\n",
       "</div>"
      ],
      "text/plain": [
       "   id              name  cost  volume_per_serving amount_in_diet model_run_id\n",
       "0   1      Cheeseburger  1.84                 4.0           None         None\n",
       "1   2      Ham Sandwich  2.19                 7.5           None         None\n",
       "2   3         Hamburger  1.84                 3.5           None         None\n",
       "3   4     Fish Sandwich  1.44                 5.0           None         None\n",
       "4   5  Chicken Sandwich  2.29                 7.3           None         None\n",
       "5   6             Fries  0.77                 2.6           None         None\n",
       "6   7   Sausage Biscuit  1.29                 4.1           None         None\n",
       "7   8       Lowfat Milk  0.60                 8.0           None         None\n",
       "8   9      Orange Juice  0.72                12.0           None         None"
      ]
     },
     "execution_count": 13,
     "metadata": {},
     "output_type": "execute_result"
    }
   ],
   "source": [
    "as_dataframe(Food.query())"
   ]
  },
  {
   "cell_type": "code",
   "execution_count": 14,
   "metadata": {},
   "outputs": [
    {
     "data": {
      "text/plain": [
       "{1: 4.0, 2: 0.0, 3: 0.0, 4: 1.0, 5: 0.0, 6: 5.0, 7: 0.0, 8: 4.0, 9: 0.0}"
      ]
     },
     "execution_count": 14,
     "metadata": {},
     "output_type": "execute_result"
    }
   ],
   "source": [
    "instance.amount_in_diet.extract_values()"
   ]
  },
  {
   "cell_type": "code",
   "execution_count": 15,
   "metadata": {
    "scrolled": true
   },
   "outputs": [
    {
     "data": {
      "text/plain": [
       "1    4.0\n",
       "2    0.0\n",
       "3    0.0\n",
       "4    1.0\n",
       "5    0.0\n",
       "6    5.0\n",
       "7    0.0\n",
       "8    4.0\n",
       "9    0.0\n",
       "dtype: float64"
      ]
     },
     "execution_count": 15,
     "metadata": {},
     "output_type": "execute_result"
    }
   ],
   "source": [
    "import pandas as pd\n",
    "pd.Series(instance.amount_in_diet.extract_values())"
   ]
  },
  {
   "cell_type": "code",
   "execution_count": 16,
   "metadata": {},
   "outputs": [
    {
     "data": {
      "text/plain": [
       "('unknown.lp', 2539451803856)"
      ]
     },
     "execution_count": 16,
     "metadata": {},
     "output_type": "execute_result"
    }
   ],
   "source": [
    "instance.write()"
   ]
  },
  {
   "cell_type": "code",
   "execution_count": 36,
   "metadata": {},
   "outputs": [
    {
     "data": {
      "text/plain": [
       "[<Food: Cheeseburger>,\n",
       " <Food: Ham Sandwich>,\n",
       " <Food: Hamburger>,\n",
       " <Food: Fish Sandwich>,\n",
       " <Food: Chicken Sandwich>,\n",
       " <Food: Fries>,\n",
       " <Food: Sausage Biscuit>,\n",
       " <Food: Lowfat Milk>,\n",
       " <Food: Orange Juice>]"
      ]
     },
     "execution_count": 36,
     "metadata": {},
     "output_type": "execute_result"
    }
   ],
   "source": [
    "Food.query().filter(Food.id.in_(list(di['diet']['cost'].keys()))).all()"
   ]
  },
  {
   "cell_type": "code",
   "execution_count": 47,
   "metadata": {},
   "outputs": [
    {
     "data": {
      "text/plain": [
       "[1, 2, 3, 4, 5, 6, 7, 8, 9]"
      ]
     },
     "execution_count": 47,
     "metadata": {},
     "output_type": "execute_result"
    }
   ],
   "source": [
    "list(instance.food)"
   ]
  },
  {
   "cell_type": "code",
   "execution_count": 46,
   "metadata": {},
   "outputs": [
    {
     "data": {
      "text/plain": [
       "[1, 2, 3, 4, 5, 6, 7, 8, 9]"
      ]
     },
     "execution_count": 46,
     "metadata": {},
     "output_type": "execute_result"
    }
   ],
   "source": [
    "list(instance.cost)"
   ]
  },
  {
   "cell_type": "code",
   "execution_count": 55,
   "metadata": {},
   "outputs": [
    {
     "data": {
      "text/plain": [
       "'Food'"
      ]
     },
     "execution_count": 55,
     "metadata": {},
     "output_type": "execute_result"
    }
   ],
   "source": [
    "Food.__name__"
   ]
  },
  {
   "cell_type": "code",
   "execution_count": null,
   "metadata": {
    "collapsed": true
   },
   "outputs": [],
   "source": []
  }
 ],
 "metadata": {
  "kernelspec": {
   "display_name": "Python 3",
   "language": "python",
   "name": "python3"
  },
  "language_info": {
   "codemirror_mode": {
    "name": "ipython",
    "version": 3
   },
   "file_extension": ".py",
   "mimetype": "text/x-python",
   "name": "python",
   "nbconvert_exporter": "python",
   "pygments_lexer": "ipython3",
   "version": "3.6.1"
  }
 },
 "nbformat": 4,
 "nbformat_minor": 2
}
