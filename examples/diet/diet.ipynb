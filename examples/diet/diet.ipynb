{
 "cells": [
  {
   "cell_type": "code",
   "execution_count": null,
   "metadata": {
    "collapsed": true
   },
   "outputs": [],
   "source": [
    "from pyomo_orm.core.database import Session, bind_engine\n",
    "from pyomo_orm.core.utils import as_dataframe\n",
    "\n",
    "from models import *"
   ]
  },
  {
   "cell_type": "code",
   "execution_count": null,
   "metadata": {},
   "outputs": [],
   "source": [
    "bind_engine('sqlite:///diet.sqlite')"
   ]
  },
  {
   "cell_type": "code",
   "execution_count": null,
   "metadata": {
    "collapsed": true
   },
   "outputs": [],
   "source": [
    "from pyomo.environ import AbstractModel, Param, PositiveReals, NonNegativeIntegers, Objective, Constraint, NonNegativeReals\n",
    "\n",
    "diet = AbstractModel()\n",
    "infinity = float('inf')"
   ]
  },
  {
   "cell_type": "code",
   "execution_count": null,
   "metadata": {
    "collapsed": true
   },
   "outputs": [],
   "source": [
    "# Sets\n",
    "diet.food = Food.create_set()\n",
    "diet.nutrients = Nutrient.create_set()"
   ]
  },
  {
   "cell_type": "code",
   "execution_count": null,
   "metadata": {
    "collapsed": true
   },
   "outputs": [],
   "source": [
    "# index params\n",
    "diet.cost = Food.create_param(diet.food, from_attr='cost', indexed_by='id')\n",
    "diet.volume_per_serving = Food.create_param(diet.food, from_attr='volume_per_serving', indexed_by='id')\n",
    "diet.nutrient_lower_bound = Nutrient.create_param(diet.nutrients, from_attr='lower_bound', indexed_by='id', within=NonNegativeReals, default=0.0)\n",
    "diet.nutrient_upper_bound = Nutrient.create_param(diet.nutrients, from_attr='upper_bound', indexed_by='id', within=NonNegativeReals, default=infinity)"
   ]
  },
  {
   "cell_type": "code",
   "execution_count": null,
   "metadata": {
    "collapsed": true
   },
   "outputs": [],
   "source": [
    "# multiindex params\n",
    "diet.nutrient_amount = FoodNutrientAmount.create_param(diet.food, diet.nutrients, from_attr='amount', indexed_by=('food_id', 'nutrient_id'))"
   ]
  },
  {
   "cell_type": "code",
   "execution_count": null,
   "metadata": {
    "collapsed": true
   },
   "outputs": [],
   "source": [
    "diet.volume_max = Param(within=PositiveReals)"
   ]
  },
  {
   "cell_type": "code",
   "execution_count": null,
   "metadata": {
    "collapsed": true
   },
   "outputs": [],
   "source": [
    "# variable\n",
    "diet.amount_in_diet = Food.create_var(diet, from_attr='amount_in_diet', indexed_by='id', within=NonNegativeIntegers)"
   ]
  },
  {
   "cell_type": "code",
   "execution_count": null,
   "metadata": {
    "collapsed": true
   },
   "outputs": [],
   "source": [
    "# constraints\n",
    "def cost_rule(m):\n",
    "    return (sum(m.cost[i] * m.amount_in_diet[i] for i in m.food))\n",
    "diet.objective = Objective(rule=cost_rule)\n",
    "\n",
    "def nutrient_rule_lower(m, j):\n",
    "    value = sum(m.nutrient_amount[i, j] * m.amount_in_diet[i] for i in m.food)\n",
    "    return m.nutrient_lower_bound[j] <= value\n",
    "\n",
    "def nutrient_rule_upper(m,j):\n",
    "    value = sum(m.nutrient_amount[i, j] * m.amount_in_diet[i] for i in m.food)\n",
    "    return value <= m.nutrient_upper_bound[j]\n",
    "diet.nutrient_constraint_lower = Constraint(diet.nutrients, rule=nutrient_rule_lower)\n",
    "diet.nutrient_constraint_upper = Constraint(diet.nutrients, rule=nutrient_rule_upper)\n",
    "\n",
    "def volume_rule(m):\n",
    "    return sum(m.volume_per_serving[i] * m.amount_in_diet[i] for i in m.food) <= m.volume_max\n",
    "diet.volume_constraint = Constraint(rule=volume_rule)"
   ]
  },
  {
   "cell_type": "code",
   "execution_count": null,
   "metadata": {
    "collapsed": true
   },
   "outputs": [],
   "source": [
    "from pyomo_orm.core.utils import create_data_dict\n",
    "\n",
    "di = create_data_dict(diet, 'diet')\n",
    "di['diet']['volume_max'] = {None: 75.0}"
   ]
  },
  {
   "cell_type": "code",
   "execution_count": null,
   "metadata": {
    "scrolled": true
   },
   "outputs": [],
   "source": [
    "di"
   ]
  },
  {
   "cell_type": "code",
   "execution_count": null,
   "metadata": {
    "scrolled": true
   },
   "outputs": [],
   "source": [
    "from pyomo.environ import SolverFactory\n",
    "\n",
    "instance = diet.create_instance(data=di, namespace='diet')\n",
    "solver = SolverFactory('cbc')\n",
    "results = solver.solve(instance, tee=True)"
   ]
  },
  {
   "cell_type": "code",
   "execution_count": null,
   "metadata": {},
   "outputs": [],
   "source": [
    "as_dataframe(Food.query())"
   ]
  },
  {
   "cell_type": "code",
   "execution_count": null,
   "metadata": {},
   "outputs": [],
   "source": [
    "instance.amount_in_diet.extract_values()"
   ]
  },
  {
   "cell_type": "code",
   "execution_count": null,
   "metadata": {
    "scrolled": true
   },
   "outputs": [],
   "source": [
    "import pandas as pd\n",
    "pd.Series(instance.amount_in_diet.extract_values())"
   ]
  },
  {
   "cell_type": "code",
   "execution_count": null,
   "metadata": {},
   "outputs": [],
   "source": [
    "instance.write()"
   ]
  },
  {
   "cell_type": "code",
   "execution_count": null,
   "metadata": {},
   "outputs": [],
   "source": [
    "Food.query().filter(Food.id.in_(list(di['diet']['cost'].keys()))).all()"
   ]
  },
  {
   "cell_type": "code",
   "execution_count": null,
   "metadata": {},
   "outputs": [],
   "source": [
    "list(instance.food)"
   ]
  },
  {
   "cell_type": "code",
   "execution_count": null,
   "metadata": {},
   "outputs": [],
   "source": [
    "list(instance.cost)"
   ]
  },
  {
   "cell_type": "code",
   "execution_count": null,
   "metadata": {},
   "outputs": [],
   "source": [
    "Food.__name__"
   ]
  },
  {
   "cell_type": "code",
   "execution_count": null,
   "metadata": {
    "collapsed": true
   },
   "outputs": [],
   "source": []
  }
 ],
 "metadata": {
  "kernelspec": {
   "display_name": "Python 3",
   "language": "python",
   "name": "python3"
  },
  "language_info": {
   "codemirror_mode": {
    "name": "ipython",
    "version": 3
   },
   "file_extension": ".py",
   "mimetype": "text/x-python",
   "name": "python",
   "nbconvert_exporter": "python",
   "pygments_lexer": "ipython3",
   "version": "3.6.1"
  }
 },
 "nbformat": 4,
 "nbformat_minor": 2
}
