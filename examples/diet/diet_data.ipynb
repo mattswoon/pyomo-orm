{
 "cells": [
  {
   "cell_type": "code",
   "execution_count": 1,
   "metadata": {},
   "outputs": [],
   "source": [
    "from pyomo_orm.core.database import Session, bind_engine\n",
    "from pyomo_orm.core.models import create_all\n",
    "from models import *"
   ]
  },
  {
   "cell_type": "code",
   "execution_count": 2,
   "metadata": {},
   "outputs": [],
   "source": [
    "bind_engine('sqlite:///diet.sqlite')\n",
    "create_all()"
   ]
  },
  {
   "cell_type": "code",
   "execution_count": 3,
   "metadata": {},
   "outputs": [],
   "source": [
    "Nutrient(name='Calories', lower_bound=2000).save()\n",
    "Nutrient(name='Carbohydrates', lower_bound=350, upper_bound=375).save()\n",
    "Nutrient(name='Protein', lower_bound=55).save()\n",
    "Nutrient(name='Vitamin A', lower_bound=100).save()\n",
    "Nutrient(name='Vitamin C', lower_bound=100).save()\n",
    "Nutrient(name='Calcium', lower_bound=100).save()\n",
    "Nutrient(name='Iron', lower_bound=100).save()"
   ]
  },
  {
   "cell_type": "code",
   "execution_count": 4,
   "metadata": {},
   "outputs": [],
   "source": [
    "Food(name='Cheeseburger', volume_per_serving=4.0, cost=1.84).save()\n",
    "Food(name='Ham Sandwich', volume_per_serving=7.5, cost=2.19).save()\n",
    "Food(name='Hamburger', volume_per_serving=3.5, cost=1.84).save()\n",
    "Food(name='Fish Sandwich', volume_per_serving=5.0, cost=1.44).save()\n",
    "Food(name='Chicken Sandwich', volume_per_serving=7.3, cost=2.29).save()\n",
    "Food(name='Fries', volume_per_serving=2.6, cost=0.77).save()\n",
    "Food(name='Sausage Biscuit', volume_per_serving=4.1, cost=1.29).save()\n",
    "Food(name='Lowfat Milk', volume_per_serving=8.0, cost=0.6).save()\n",
    "Food(name='Orange Juice', volume_per_serving=12.0, cost=0.72).save()"
   ]
  },
  {
   "cell_type": "code",
   "execution_count": 5,
   "metadata": {},
   "outputs": [],
   "source": [
    "FoodNutrientAmount(food=Food.get(name='Cheeseburger'), nutrient=Nutrient.get(name='Calories'), amount=510).save()\n",
    "FoodNutrientAmount(food=Food.get(name='Cheeseburger'), nutrient=Nutrient.get(name='Carbohydrates'), amount=34).save()\n",
    "FoodNutrientAmount(food=Food.get(name='Cheeseburger'), nutrient=Nutrient.get(name='Protein'), amount=28).save()\n",
    "FoodNutrientAmount(food=Food.get(name='Cheeseburger'), nutrient=Nutrient.get(name='Vitamin A'), amount=15).save()\n",
    "FoodNutrientAmount(food=Food.get(name='Cheeseburger'), nutrient=Nutrient.get(name='Vitamin C'), amount=6).save()\n",
    "FoodNutrientAmount(food=Food.get(name='Cheeseburger'), nutrient=Nutrient.get(name='Calcium'), amount=30).save()\n",
    "FoodNutrientAmount(food=Food.get(name='Cheeseburger'), nutrient=Nutrient.get(name='Iron'), amount=20).save()"
   ]
  },
  {
   "cell_type": "code",
   "execution_count": 6,
   "metadata": {
    "collapsed": true
   },
   "outputs": [],
   "source": [
    "FoodNutrientAmount(food=Food.get(name='Ham Sandwich'), nutrient=Nutrient.get(name='Calories'), amount=370).save()\n",
    "FoodNutrientAmount(food=Food.get(name='Ham Sandwich'), nutrient=Nutrient.get(name='Carbohydrates'), amount=35).save()\n",
    "FoodNutrientAmount(food=Food.get(name='Ham Sandwich'), nutrient=Nutrient.get(name='Protein'), amount=24).save()\n",
    "FoodNutrientAmount(food=Food.get(name='Ham Sandwich'), nutrient=Nutrient.get(name='Vitamin A'), amount=15).save()\n",
    "FoodNutrientAmount(food=Food.get(name='Ham Sandwich'), nutrient=Nutrient.get(name='Vitamin C'), amount=10).save()\n",
    "FoodNutrientAmount(food=Food.get(name='Ham Sandwich'), nutrient=Nutrient.get(name='Calcium'), amount=20).save()\n",
    "FoodNutrientAmount(food=Food.get(name='Ham Sandwich'), nutrient=Nutrient.get(name='Iron'), amount=20).save()"
   ]
  },
  {
   "cell_type": "code",
   "execution_count": 7,
   "metadata": {
    "collapsed": true
   },
   "outputs": [],
   "source": [
    "FoodNutrientAmount(food=Food.get(name='Hamburger'), nutrient=Nutrient.get(name='Calories'), amount=500).save()\n",
    "FoodNutrientAmount(food=Food.get(name='Hamburger'), nutrient=Nutrient.get(name='Carbohydrates'), amount=42).save()\n",
    "FoodNutrientAmount(food=Food.get(name='Hamburger'), nutrient=Nutrient.get(name='Protein'), amount=25).save()\n",
    "FoodNutrientAmount(food=Food.get(name='Hamburger'), nutrient=Nutrient.get(name='Vitamin A'), amount=6).save()\n",
    "FoodNutrientAmount(food=Food.get(name='Hamburger'), nutrient=Nutrient.get(name='Vitamin C'), amount=2).save()\n",
    "FoodNutrientAmount(food=Food.get(name='Hamburger'), nutrient=Nutrient.get(name='Calcium'), amount=25).save()\n",
    "FoodNutrientAmount(food=Food.get(name='Hamburger'), nutrient=Nutrient.get(name='Iron'), amount=20).save()"
   ]
  },
  {
   "cell_type": "code",
   "execution_count": 8,
   "metadata": {
    "collapsed": true
   },
   "outputs": [],
   "source": [
    "FoodNutrientAmount(food=Food.get(name='Fish Sandwich'), nutrient=Nutrient.get(name='Calories'), amount=370).save()\n",
    "FoodNutrientAmount(food=Food.get(name='Fish Sandwich'), nutrient=Nutrient.get(name='Carbohydrates'), amount=38).save()\n",
    "FoodNutrientAmount(food=Food.get(name='Fish Sandwich'), nutrient=Nutrient.get(name='Protein'), amount=14).save()\n",
    "FoodNutrientAmount(food=Food.get(name='Fish Sandwich'), nutrient=Nutrient.get(name='Vitamin A'), amount=2).save()\n",
    "FoodNutrientAmount(food=Food.get(name='Fish Sandwich'), nutrient=Nutrient.get(name='Vitamin C'), amount=0).save()\n",
    "FoodNutrientAmount(food=Food.get(name='Fish Sandwich'), nutrient=Nutrient.get(name='Calcium'), amount=15).save()\n",
    "FoodNutrientAmount(food=Food.get(name='Fish Sandwich'), nutrient=Nutrient.get(name='Iron'), amount=10).save()"
   ]
  },
  {
   "cell_type": "code",
   "execution_count": 9,
   "metadata": {
    "collapsed": true
   },
   "outputs": [],
   "source": [
    "FoodNutrientAmount(food=Food.get(name='Chicken Sandwich'), nutrient=Nutrient.get(name='Calories'), amount=400).save()\n",
    "FoodNutrientAmount(food=Food.get(name='Chicken Sandwich'), nutrient=Nutrient.get(name='Carbohydrates'), amount=42).save()\n",
    "FoodNutrientAmount(food=Food.get(name='Chicken Sandwich'), nutrient=Nutrient.get(name='Protein'), amount=31).save()\n",
    "FoodNutrientAmount(food=Food.get(name='Chicken Sandwich'), nutrient=Nutrient.get(name='Vitamin A'), amount=8).save()\n",
    "FoodNutrientAmount(food=Food.get(name='Chicken Sandwich'), nutrient=Nutrient.get(name='Vitamin C'), amount=15).save()\n",
    "FoodNutrientAmount(food=Food.get(name='Chicken Sandwich'), nutrient=Nutrient.get(name='Calcium'), amount=15).save()\n",
    "FoodNutrientAmount(food=Food.get(name='Chicken Sandwich'), nutrient=Nutrient.get(name='Iron'), amount=8).save()"
   ]
  },
  {
   "cell_type": "code",
   "execution_count": 10,
   "metadata": {
    "collapsed": true
   },
   "outputs": [],
   "source": [
    "FoodNutrientAmount(food=Food.get(name='Fries'), nutrient=Nutrient.get(name='Calories'), amount=220).save()\n",
    "FoodNutrientAmount(food=Food.get(name='Fries'), nutrient=Nutrient.get(name='Carbohydrates'), amount=26).save()\n",
    "FoodNutrientAmount(food=Food.get(name='Fries'), nutrient=Nutrient.get(name='Protein'), amount=3).save()\n",
    "FoodNutrientAmount(food=Food.get(name='Fries'), nutrient=Nutrient.get(name='Vitamin A'), amount=0).save()\n",
    "FoodNutrientAmount(food=Food.get(name='Fries'), nutrient=Nutrient.get(name='Vitamin C'), amount=15).save()\n",
    "FoodNutrientAmount(food=Food.get(name='Fries'), nutrient=Nutrient.get(name='Calcium'), amount=0).save()\n",
    "FoodNutrientAmount(food=Food.get(name='Fries'), nutrient=Nutrient.get(name='Iron'), amount=2).save()"
   ]
  },
  {
   "cell_type": "code",
   "execution_count": 11,
   "metadata": {
    "collapsed": true
   },
   "outputs": [],
   "source": [
    "FoodNutrientAmount(food=Food.get(name='Sausage Biscuit'), nutrient=Nutrient.get(name='Calories'), amount=345).save()\n",
    "FoodNutrientAmount(food=Food.get(name='Sausage Biscuit'), nutrient=Nutrient.get(name='Carbohydrates'), amount=27).save()\n",
    "FoodNutrientAmount(food=Food.get(name='Sausage Biscuit'), nutrient=Nutrient.get(name='Protein'), amount=15).save()\n",
    "FoodNutrientAmount(food=Food.get(name='Sausage Biscuit'), nutrient=Nutrient.get(name='Vitamin A'), amount=4).save()\n",
    "FoodNutrientAmount(food=Food.get(name='Sausage Biscuit'), nutrient=Nutrient.get(name='Vitamin C'), amount=0).save()\n",
    "FoodNutrientAmount(food=Food.get(name='Sausage Biscuit'), nutrient=Nutrient.get(name='Calcium'), amount=20).save()\n",
    "FoodNutrientAmount(food=Food.get(name='Sausage Biscuit'), nutrient=Nutrient.get(name='Iron'), amount=15).save()"
   ]
  },
  {
   "cell_type": "code",
   "execution_count": 12,
   "metadata": {
    "collapsed": true
   },
   "outputs": [],
   "source": [
    "FoodNutrientAmount(food=Food.get(name='Lowfat Milk'), nutrient=Nutrient.get(name='Calories'), amount=110).save()\n",
    "FoodNutrientAmount(food=Food.get(name='Lowfat Milk'), nutrient=Nutrient.get(name='Carbohydrates'), amount=12).save()\n",
    "FoodNutrientAmount(food=Food.get(name='Lowfat Milk'), nutrient=Nutrient.get(name='Protein'), amount=9).save()\n",
    "FoodNutrientAmount(food=Food.get(name='Lowfat Milk'), nutrient=Nutrient.get(name='Vitamin A'), amount=10).save()\n",
    "FoodNutrientAmount(food=Food.get(name='Lowfat Milk'), nutrient=Nutrient.get(name='Vitamin C'), amount=4).save()\n",
    "FoodNutrientAmount(food=Food.get(name='Lowfat Milk'), nutrient=Nutrient.get(name='Calcium'), amount=30).save()\n",
    "FoodNutrientAmount(food=Food.get(name='Lowfat Milk'), nutrient=Nutrient.get(name='Iron'), amount=0).save()"
   ]
  },
  {
   "cell_type": "code",
   "execution_count": 13,
   "metadata": {
    "collapsed": true
   },
   "outputs": [],
   "source": [
    "FoodNutrientAmount(food=Food.get(name='Orange Juice'), nutrient=Nutrient.get(name='Calories'), amount=80).save()\n",
    "FoodNutrientAmount(food=Food.get(name='Orange Juice'), nutrient=Nutrient.get(name='Carbohydrates'), amount=20).save()\n",
    "FoodNutrientAmount(food=Food.get(name='Orange Juice'), nutrient=Nutrient.get(name='Protein'), amount=1).save()\n",
    "FoodNutrientAmount(food=Food.get(name='Orange Juice'), nutrient=Nutrient.get(name='Vitamin A'), amount=2).save()\n",
    "FoodNutrientAmount(food=Food.get(name='Orange Juice'), nutrient=Nutrient.get(name='Vitamin C'), amount=120).save()\n",
    "FoodNutrientAmount(food=Food.get(name='Orange Juice'), nutrient=Nutrient.get(name='Calcium'), amount=2).save()\n",
    "FoodNutrientAmount(food=Food.get(name='Orange Juice'), nutrient=Nutrient.get(name='Iron'), amount=2).save()"
   ]
  },
  {
   "cell_type": "code",
   "execution_count": null,
   "metadata": {
    "collapsed": true
   },
   "outputs": [],
   "source": []
  }
 ],
 "metadata": {
  "kernelspec": {
   "display_name": "Python 3",
   "language": "python",
   "name": "python3"
  },
  "language_info": {
   "codemirror_mode": {
    "name": "ipython",
    "version": 3
   },
   "file_extension": ".py",
   "mimetype": "text/x-python",
   "name": "python",
   "nbconvert_exporter": "python",
   "pygments_lexer": "ipython3",
   "version": "3.6.1"
  }
 },
 "nbformat": 4,
 "nbformat_minor": 2
}
