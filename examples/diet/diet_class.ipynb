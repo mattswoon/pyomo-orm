{
 "cells": [
  {
   "cell_type": "code",
   "execution_count": 1,
   "metadata": {
    "collapsed": true
   },
   "outputs": [],
   "source": [
    "from pyomo_orm.core.database import Session, bind_engine\n",
    "from pyomo_orm.core.utils import as_dataframe\n",
    "\n",
    "from models import *"
   ]
  },
  {
   "cell_type": "code",
   "execution_count": 2,
   "metadata": {},
   "outputs": [
    {
     "data": {
      "text/plain": [
       "Engine(sqlite:///diet.sqlite)"
      ]
     },
     "execution_count": 2,
     "metadata": {},
     "output_type": "execute_result"
    }
   ],
   "source": [
    "bind_engine('sqlite:///diet.sqlite')"
   ]
  },
  {
   "cell_type": "code",
   "execution_count": 3,
   "metadata": {},
   "outputs": [],
   "source": [
    "from pyomo_orm.core.problems import BaseProblem\n",
    "from pyomo_orm.core.wrappers import *\n",
    "infinity = float('inf')"
   ]
  },
  {
   "cell_type": "code",
   "execution_count": 4,
   "metadata": {},
   "outputs": [],
   "source": [
    "from pyomo.environ import NonNegativeReals, NonNegativeIntegers\n",
    "\n",
    "class DietProblem(BaseProblem):\n",
    "    # Sets\n",
    "    foods = ORMSet(\n",
    "        model=Food,\n",
    "        from_attr='id',\n",
    "        indexed_by=None,\n",
    "        queryset=Food.query().filter(Food.problem_run_id == None)\n",
    "    )\n",
    "    nutrients = ORMSet(\n",
    "        model=Nutrient,\n",
    "        from_attr='id',\n",
    "        indexed_by=None,\n",
    "        queryset=Nutrient.query().filter(Nutrient.problem_run_id == None)\n",
    "    )\n",
    "\n",
    "    # Params\n",
    "    cost = ORMParam(\n",
    "        'foods',\n",
    "        model=Food,\n",
    "        from_attr='cost'\n",
    "    )\n",
    "    volume_per_serving = ORMParam(\n",
    "        'foods',\n",
    "        model=Food,\n",
    "        from_attr='volume_per_serving'\n",
    "    )\n",
    "    amount = ORMParam(\n",
    "        'foods',\n",
    "        'nutrients',\n",
    "        model=FoodNutrientAmount,\n",
    "        from_attr='amount',\n",
    "        indexed_by=['food_id', 'nutrient_id']\n",
    "    )\n",
    "    nutrient_lower_bound = ORMParam(\n",
    "        'nutrients',\n",
    "        model=Nutrient,\n",
    "        from_attr='lower_bound',\n",
    "        within=NonNegativeReals,\n",
    "        default=0.0\n",
    "    )\n",
    "    nutrient_upper_bound = ORMParam(\n",
    "        'nutrients',\n",
    "        model=Nutrient,\n",
    "        from_attr='upper_bound',\n",
    "        within=NonNegativeReals,\n",
    "        default=infinity\n",
    "    )\n",
    "    \n",
    "    volume_max = ORMParam(\n",
    "        model=Constant,\n",
    "        from_attr='value',\n",
    "        indexed_by=None,\n",
    "        queryset=Constant.query().filter(\n",
    "            Constant.problem_run_id == None, \n",
    "            Constant.constant_name == 'max_volume'\n",
    "        ),\n",
    "        within=NonNegativeReals\n",
    "    )\n",
    "    \n",
    "    # Vars\n",
    "    amount_in_diet = ORMVar(\n",
    "        'foods',\n",
    "        model=Food,\n",
    "        from_attr='amount_in_diet',\n",
    "        within=NonNegativeIntegers\n",
    "    )\n",
    "    \n",
    "    @orm_constraint('nutrients')\n",
    "    def nutrient_lower_constraint(m, n):\n",
    "        value = sum(m.amount[f, n] * m.amount_in_diet[f] for f in m.foods)\n",
    "        return (m.nutrient_lower_bound[n] <= value)\n",
    "    \n",
    "    @orm_constraint('nutrients')\n",
    "    def nutrient_upper_constraint(m, n):\n",
    "        value = sum(m.amount[f, n] * m.amount_in_diet[f] for f in m.foods)\n",
    "        return (value <= m.nutrient_upper_bound[n])\n",
    "    \n",
    "    @orm_constraint()\n",
    "    def volume_constraint(m):\n",
    "        return sum(m.volume_per_serving[f] * m.amount_in_diet[f] for f in m.foods) <= m.volume_max\n",
    "    \n",
    "    @orm_objective()\n",
    "    def total_cost(m):\n",
    "        return sum(m.cost[f] * m.amount_in_diet[f] for f in m.foods)\n"
   ]
  },
  {
   "cell_type": "code",
   "execution_count": 5,
   "metadata": {},
   "outputs": [],
   "source": [
    "diet = DietProblem(\n",
    "    name='Diet Problem', \n",
    "    description=\"\"\"\n",
    "From a selection of foods curate a meal plan that meets nutrient requirements at lowest cost\n",
    "\"\"\"\n",
    ")"
   ]
  },
  {
   "cell_type": "code",
   "execution_count": 6,
   "metadata": {
    "scrolled": true
   },
   "outputs": [],
   "source": [
    "diet.define_problem()"
   ]
  },
  {
   "cell_type": "code",
   "execution_count": 7,
   "metadata": {},
   "outputs": [
    {
     "data": {
      "text/plain": [
       "<pyomo.core.base.param.SimpleParam at 0x21485bf2bd0>"
      ]
     },
     "execution_count": 7,
     "metadata": {},
     "output_type": "execute_result"
    }
   ],
   "source": [
    "diet.pyomo_model.volume_max"
   ]
  },
  {
   "cell_type": "code",
   "execution_count": 8,
   "metadata": {},
   "outputs": [
    {
     "data": {
      "text/plain": [
       "<pyomo.core.base.PyomoModel.ConcreteModel at 0x21485c1dc18>"
      ]
     },
     "execution_count": 8,
     "metadata": {},
     "output_type": "execute_result"
    }
   ],
   "source": [
    "diet.create_instance()"
   ]
  },
  {
   "cell_type": "code",
   "execution_count": 9,
   "metadata": {},
   "outputs": [
    {
     "data": {
      "text/plain": [
       "<Plugin CBCSHELL 'cbc'>"
      ]
     },
     "execution_count": 9,
     "metadata": {},
     "output_type": "execute_result"
    }
   ],
   "source": [
    "diet.create_solver()"
   ]
  },
  {
   "cell_type": "code",
   "execution_count": 10,
   "metadata": {},
   "outputs": [
    {
     "data": {
      "text/plain": [
       "{'Problem': [{'Name': 'unknown', 'Lower bound': 15.05, 'Upper bound': 15.05, 'Number of objectives': 1, 'Number of constraints': 10, 'Number of variables': 10, 'Number of nonzeros': 77, 'Sense': 'minimize'}], 'Solver': [{'Status': 'ok', 'User time': -1.0, 'Termination condition': 'optimal', 'Error rc': 0, 'Time': 0.10593223571777344}], 'Solution': [OrderedDict([('number of solutions', 0), ('number of solutions displayed', 0)])]}"
      ]
     },
     "execution_count": 10,
     "metadata": {},
     "output_type": "execute_result"
    }
   ],
   "source": [
    "diet.solve()"
   ]
  },
  {
   "cell_type": "code",
   "execution_count": 11,
   "metadata": {},
   "outputs": [
    {
     "data": {
      "text/plain": [
       "{<Amount: 2.0 of Iron in Orange Juice,\n",
       " <Food: Orange Juice>,\n",
       " <Amount: 20.0 of Iron in Cheeseburger,\n",
       " <Food: Lowfat Milk>,\n",
       " <Amount: 26.0 of Carbohydrates in Fries,\n",
       " <Amount: 3.0 of Protein in Fries,\n",
       " <Food: Sausage Biscuit>,\n",
       " <Food: Fries>,\n",
       " <Amount: 30.0 of Calcium in Cheeseburger,\n",
       " <Nutrient: Carbohydrates>,\n",
       " <Amount: 24.0 of Protein in Ham Sandwich,\n",
       " <Food: Chicken Sandwich>,\n",
       " <Amount: 8.0 of Iron in Chicken Sandwich,\n",
       " <Food: Fish Sandwich>,\n",
       " <Nutrient: Protein>,\n",
       " <Amount: 30.0 of Calcium in Lowfat Milk,\n",
       " <Constant: max_volume = 75.0>,\n",
       " <Food: Hamburger>,\n",
       " <Amount: 4.0 of Vitamin C in Lowfat Milk,\n",
       " <Nutrient: Calories>,\n",
       " <Food: Ham Sandwich>,\n",
       " <Amount: 20.0 of Calcium in Sausage Biscuit,\n",
       " <Amount: 110.0 of Calories in Lowfat Milk,\n",
       " <Amount: 10.0 of Vitamin C in Ham Sandwich,\n",
       " <Food: Cheeseburger>,\n",
       " <Amount: 6.0 of Vitamin C in Cheeseburger,\n",
       " <Amount: 25.0 of Calcium in Hamburger,\n",
       " <Amount: 4.0 of Vitamin A in Sausage Biscuit,\n",
       " <Amount: 2.0 of Calcium in Orange Juice,\n",
       " <Amount: 15.0 of Iron in Sausage Biscuit,\n",
       " <Amount: 0.0 of Iron in Lowfat Milk,\n",
       " <Amount: 0.0 of Vitamin C in Sausage Biscuit,\n",
       " <Amount: 2.0 of Vitamin C in Hamburger,\n",
       " <Amount: 6.0 of Vitamin A in Hamburger,\n",
       " <Amount: 80.0 of Calories in Orange Juice,\n",
       " <Amount: 9.0 of Protein in Lowfat Milk,\n",
       " <Amount: 0.0 of Vitamin A in Fries,\n",
       " <Amount: 120.0 of Vitamin C in Orange Juice,\n",
       " <Amount: 34.0 of Carbohydrates in Cheeseburger,\n",
       " <Amount: 370.0 of Calories in Fish Sandwich,\n",
       " <Amount: 2.0 of Vitamin A in Orange Juice,\n",
       " <Amount: 500.0 of Calories in Hamburger,\n",
       " <Amount: 14.0 of Protein in Fish Sandwich,\n",
       " <Amount: 38.0 of Carbohydrates in Fish Sandwich,\n",
       " <Amount: 1.0 of Protein in Orange Juice,\n",
       " <Amount: 20.0 of Iron in Ham Sandwich,\n",
       " <Amount: 15.0 of Protein in Sausage Biscuit,\n",
       " <Amount: 20.0 of Carbohydrates in Orange Juice,\n",
       " <Amount: 510.0 of Calories in Cheeseburger,\n",
       " <Amount: 20.0 of Iron in Hamburger,\n",
       " <Amount: 25.0 of Protein in Hamburger,\n",
       " <Amount: 2.0 of Vitamin A in Fish Sandwich,\n",
       " <Amount: 10.0 of Vitamin A in Lowfat Milk,\n",
       " <Amount: 20.0 of Calcium in Ham Sandwich,\n",
       " <Nutrient: Calcium>,\n",
       " <Amount: 15.0 of Calcium in Fish Sandwich,\n",
       " <Amount: 8.0 of Vitamin A in Chicken Sandwich,\n",
       " <Amount: 28.0 of Protein in Cheeseburger,\n",
       " <Amount: 42.0 of Carbohydrates in Hamburger,\n",
       " <Amount: 10.0 of Iron in Fish Sandwich,\n",
       " <Amount: 400.0 of Calories in Chicken Sandwich,\n",
       " <Amount: 220.0 of Calories in Fries,\n",
       " <Nutrient: Vitamin A>,\n",
       " <Amount: 15.0 of Vitamin C in Fries,\n",
       " <Amount: 15.0 of Vitamin A in Ham Sandwich,\n",
       " <Amount: 42.0 of Carbohydrates in Chicken Sandwich,\n",
       " <Amount: 370.0 of Calories in Ham Sandwich,\n",
       " <Nutrient: Vitamin C>,\n",
       " <Amount: 0.0 of Calcium in Fries,\n",
       " <Amount: 31.0 of Protein in Chicken Sandwich,\n",
       " <Amount: 15.0 of Vitamin A in Cheeseburger,\n",
       " <Amount: 35.0 of Carbohydrates in Ham Sandwich,\n",
       " <Amount: 15.0 of Calcium in Chicken Sandwich,\n",
       " <Amount: 2.0 of Iron in Fries,\n",
       " <Amount: 27.0 of Carbohydrates in Sausage Biscuit,\n",
       " <Amount: 345.0 of Calories in Sausage Biscuit,\n",
       " <Amount: 12.0 of Carbohydrates in Lowfat Milk,\n",
       " <Amount: 15.0 of Vitamin C in Chicken Sandwich,\n",
       " <Nutrient: Iron>,\n",
       " <Amount: 0.0 of Vitamin C in Fish Sandwich}"
      ]
     },
     "execution_count": 11,
     "metadata": {},
     "output_type": "execute_result"
    }
   ],
   "source": [
    "diet._pyomo_orm_instance_components"
   ]
  },
  {
   "cell_type": "code",
   "execution_count": 12,
   "metadata": {},
   "outputs": [],
   "source": [
    "from pyomo_orm.core.utils import as_dataframe"
   ]
  },
  {
   "cell_type": "code",
   "execution_count": 13,
   "metadata": {},
   "outputs": [
    {
     "data": {
      "text/html": [
       "<div>\n",
       "<style>\n",
       "    .dataframe thead tr:only-child th {\n",
       "        text-align: right;\n",
       "    }\n",
       "\n",
       "    .dataframe thead th {\n",
       "        text-align: left;\n",
       "    }\n",
       "\n",
       "    .dataframe tbody tr th {\n",
       "        vertical-align: top;\n",
       "    }\n",
       "</style>\n",
       "<table border=\"1\" class=\"dataframe\">\n",
       "  <thead>\n",
       "    <tr style=\"text-align: right;\">\n",
       "      <th></th>\n",
       "      <th>id</th>\n",
       "      <th>name</th>\n",
       "      <th>cost</th>\n",
       "      <th>volume_per_serving</th>\n",
       "      <th>amount_in_diet</th>\n",
       "      <th>problem_run_id</th>\n",
       "    </tr>\n",
       "  </thead>\n",
       "  <tbody>\n",
       "    <tr>\n",
       "      <th>0</th>\n",
       "      <td>1</td>\n",
       "      <td>Cheeseburger</td>\n",
       "      <td>1.84</td>\n",
       "      <td>4.0</td>\n",
       "      <td>None</td>\n",
       "      <td>3</td>\n",
       "    </tr>\n",
       "    <tr>\n",
       "      <th>1</th>\n",
       "      <td>2</td>\n",
       "      <td>Ham Sandwich</td>\n",
       "      <td>2.19</td>\n",
       "      <td>7.5</td>\n",
       "      <td>None</td>\n",
       "      <td>3</td>\n",
       "    </tr>\n",
       "    <tr>\n",
       "      <th>2</th>\n",
       "      <td>3</td>\n",
       "      <td>Hamburger</td>\n",
       "      <td>1.84</td>\n",
       "      <td>3.5</td>\n",
       "      <td>None</td>\n",
       "      <td>3</td>\n",
       "    </tr>\n",
       "    <tr>\n",
       "      <th>3</th>\n",
       "      <td>4</td>\n",
       "      <td>Fish Sandwich</td>\n",
       "      <td>1.44</td>\n",
       "      <td>5.0</td>\n",
       "      <td>None</td>\n",
       "      <td>3</td>\n",
       "    </tr>\n",
       "    <tr>\n",
       "      <th>4</th>\n",
       "      <td>5</td>\n",
       "      <td>Chicken Sandwich</td>\n",
       "      <td>2.29</td>\n",
       "      <td>7.3</td>\n",
       "      <td>None</td>\n",
       "      <td>3</td>\n",
       "    </tr>\n",
       "    <tr>\n",
       "      <th>5</th>\n",
       "      <td>6</td>\n",
       "      <td>Fries</td>\n",
       "      <td>0.77</td>\n",
       "      <td>2.6</td>\n",
       "      <td>None</td>\n",
       "      <td>3</td>\n",
       "    </tr>\n",
       "    <tr>\n",
       "      <th>6</th>\n",
       "      <td>7</td>\n",
       "      <td>Sausage Biscuit</td>\n",
       "      <td>1.29</td>\n",
       "      <td>4.1</td>\n",
       "      <td>None</td>\n",
       "      <td>3</td>\n",
       "    </tr>\n",
       "    <tr>\n",
       "      <th>7</th>\n",
       "      <td>8</td>\n",
       "      <td>Lowfat Milk</td>\n",
       "      <td>0.60</td>\n",
       "      <td>8.0</td>\n",
       "      <td>None</td>\n",
       "      <td>3</td>\n",
       "    </tr>\n",
       "    <tr>\n",
       "      <th>8</th>\n",
       "      <td>9</td>\n",
       "      <td>Orange Juice</td>\n",
       "      <td>0.72</td>\n",
       "      <td>12.0</td>\n",
       "      <td>None</td>\n",
       "      <td>3</td>\n",
       "    </tr>\n",
       "  </tbody>\n",
       "</table>\n",
       "</div>"
      ],
      "text/plain": [
       "   id              name  cost  volume_per_serving amount_in_diet  \\\n",
       "0   1      Cheeseburger  1.84                 4.0           None   \n",
       "1   2      Ham Sandwich  2.19                 7.5           None   \n",
       "2   3         Hamburger  1.84                 3.5           None   \n",
       "3   4     Fish Sandwich  1.44                 5.0           None   \n",
       "4   5  Chicken Sandwich  2.29                 7.3           None   \n",
       "5   6             Fries  0.77                 2.6           None   \n",
       "6   7   Sausage Biscuit  1.29                 4.1           None   \n",
       "7   8       Lowfat Milk  0.60                 8.0           None   \n",
       "8   9      Orange Juice  0.72                12.0           None   \n",
       "\n",
       "   problem_run_id  \n",
       "0               3  \n",
       "1               3  \n",
       "2               3  \n",
       "3               3  \n",
       "4               3  \n",
       "5               3  \n",
       "6               3  \n",
       "7               3  \n",
       "8               3  "
      ]
     },
     "execution_count": 13,
     "metadata": {},
     "output_type": "execute_result"
    }
   ],
   "source": [
    "as_dataframe(Food.query())"
   ]
  },
  {
   "cell_type": "code",
   "execution_count": 14,
   "metadata": {},
   "outputs": [],
   "source": [
    "diet.current_problem_run.save()"
   ]
  },
  {
   "cell_type": "code",
   "execution_count": 15,
   "metadata": {},
   "outputs": [],
   "source": [
    "from pyomo_orm.core.models import ProblemRun, ProblemDetail"
   ]
  },
  {
   "cell_type": "code",
   "execution_count": 16,
   "metadata": {},
   "outputs": [
    {
     "data": {
      "text/html": [
       "<div>\n",
       "<style>\n",
       "    .dataframe thead tr:only-child th {\n",
       "        text-align: right;\n",
       "    }\n",
       "\n",
       "    .dataframe thead th {\n",
       "        text-align: left;\n",
       "    }\n",
       "\n",
       "    .dataframe tbody tr th {\n",
       "        vertical-align: top;\n",
       "    }\n",
       "</style>\n",
       "<table border=\"1\" class=\"dataframe\">\n",
       "  <thead>\n",
       "    <tr style=\"text-align: right;\">\n",
       "      <th></th>\n",
       "      <th>id</th>\n",
       "      <th>name</th>\n",
       "      <th>description</th>\n",
       "      <th>version</th>\n",
       "    </tr>\n",
       "  </thead>\n",
       "  <tbody>\n",
       "    <tr>\n",
       "      <th>0</th>\n",
       "      <td>1</td>\n",
       "      <td>Diet Problem</td>\n",
       "      <td>\\nFrom a selection of foods curate a meal plan...</td>\n",
       "      <td></td>\n",
       "    </tr>\n",
       "    <tr>\n",
       "      <th>1</th>\n",
       "      <td>2</td>\n",
       "      <td>Diet Problem</td>\n",
       "      <td>\\nFrom a selection of foods curate a meal plan...</td>\n",
       "      <td></td>\n",
       "    </tr>\n",
       "    <tr>\n",
       "      <th>2</th>\n",
       "      <td>3</td>\n",
       "      <td>Diet Problem</td>\n",
       "      <td>\\nFrom a selection of foods curate a meal plan...</td>\n",
       "      <td></td>\n",
       "    </tr>\n",
       "  </tbody>\n",
       "</table>\n",
       "</div>"
      ],
      "text/plain": [
       "   id          name                                        description version\n",
       "0   1  Diet Problem  \\nFrom a selection of foods curate a meal plan...        \n",
       "1   2  Diet Problem  \\nFrom a selection of foods curate a meal plan...        \n",
       "2   3  Diet Problem  \\nFrom a selection of foods curate a meal plan...        "
      ]
     },
     "execution_count": 16,
     "metadata": {},
     "output_type": "execute_result"
    }
   ],
   "source": [
    "as_dataframe(ProblemDetail.query())"
   ]
  },
  {
   "cell_type": "code",
   "execution_count": 17,
   "metadata": {},
   "outputs": [
    {
     "data": {
      "text/html": [
       "<div>\n",
       "<style>\n",
       "    .dataframe thead tr:only-child th {\n",
       "        text-align: right;\n",
       "    }\n",
       "\n",
       "    .dataframe thead th {\n",
       "        text-align: left;\n",
       "    }\n",
       "\n",
       "    .dataframe tbody tr th {\n",
       "        vertical-align: top;\n",
       "    }\n",
       "</style>\n",
       "<table border=\"1\" class=\"dataframe\">\n",
       "  <thead>\n",
       "    <tr style=\"text-align: right;\">\n",
       "      <th></th>\n",
       "      <th>id</th>\n",
       "      <th>problem_details_id</th>\n",
       "    </tr>\n",
       "  </thead>\n",
       "  <tbody>\n",
       "    <tr>\n",
       "      <th>0</th>\n",
       "      <td>1</td>\n",
       "      <td>1</td>\n",
       "    </tr>\n",
       "    <tr>\n",
       "      <th>1</th>\n",
       "      <td>2</td>\n",
       "      <td>2</td>\n",
       "    </tr>\n",
       "    <tr>\n",
       "      <th>2</th>\n",
       "      <td>3</td>\n",
       "      <td>3</td>\n",
       "    </tr>\n",
       "  </tbody>\n",
       "</table>\n",
       "</div>"
      ],
      "text/plain": [
       "   id  problem_details_id\n",
       "0   1                   1\n",
       "1   2                   2\n",
       "2   3                   3"
      ]
     },
     "execution_count": 17,
     "metadata": {},
     "output_type": "execute_result"
    }
   ],
   "source": [
    "as_dataframe(ProblemRun.query())"
   ]
  },
  {
   "cell_type": "code",
   "execution_count": null,
   "metadata": {
    "collapsed": true
   },
   "outputs": [],
   "source": []
  }
 ],
 "metadata": {
  "kernelspec": {
   "display_name": "Python 3",
   "language": "python",
   "name": "python3"
  },
  "language_info": {
   "codemirror_mode": {
    "name": "ipython",
    "version": 3
   },
   "file_extension": ".py",
   "mimetype": "text/x-python",
   "name": "python",
   "nbconvert_exporter": "python",
   "pygments_lexer": "ipython3",
   "version": "3.6.1"
  }
 },
 "nbformat": 4,
 "nbformat_minor": 2
}
