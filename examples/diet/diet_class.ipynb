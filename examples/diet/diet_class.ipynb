{
 "cells": [
  {
   "cell_type": "code",
   "execution_count": 1,
   "metadata": {},
   "outputs": [],
   "source": [
    "from pyomo_orm.core.database import Session, bind_engine\n",
    "from pyomo_orm.core.utils import as_dataframe\n",
    "\n",
    "from models import *"
   ]
  },
  {
   "cell_type": "code",
   "execution_count": 2,
   "metadata": {},
   "outputs": [
    {
     "data": {
      "text/plain": [
       "Engine(sqlite:///diet.sqlite)"
      ]
     },
     "execution_count": 2,
     "metadata": {},
     "output_type": "execute_result"
    }
   ],
   "source": [
    "bind_engine('sqlite:///diet.sqlite')"
   ]
  },
  {
   "cell_type": "code",
   "execution_count": 3,
   "metadata": {},
   "outputs": [],
   "source": [
    "from pyomo_orm.core.problems import BaseProblem\n",
    "from pyomo_orm.core.wrappers import *\n",
    "infinity = float('inf')"
   ]
  },
  {
   "cell_type": "code",
   "execution_count": 4,
   "metadata": {},
   "outputs": [],
   "source": [
    "from pyomo.environ import NonNegativeReals\n",
    "\n",
    "class DietProblem(BaseProblem):\n",
    "    # Sets\n",
    "    foods = ORMSet(\n",
    "        model=Food,\n",
    "        queryset=Food.query().filter(Food.problem_run_id is None)\n",
    "    )\n",
    "    nutrients = ORMSet(\n",
    "        model=Nutrient,\n",
    "        queryset=Nutrient.query().filter(Nutrient.problem_run_id is None)\n",
    "    )\n",
    "\n",
    "    # Params\n",
    "    cost = ORMParam(\n",
    "        'foods',\n",
    "        model=Food,\n",
    "        from_attr='cost'\n",
    "    )\n",
    "    volume_per_serving = ORMParam(\n",
    "        'foods',\n",
    "        model=Food,\n",
    "        from_attr='volume_per_serving'\n",
    "    )\n",
    "    amount = ORMParam(\n",
    "        'foods',\n",
    "        'nutrients',\n",
    "        model=FoodNutrientAmount,\n",
    "        from_attr='amount',\n",
    "        indexed_by=['food_id', 'nutrient_id']\n",
    "    )\n",
    "    nutrient_lower_bound = ORMParam(\n",
    "        'nutrients',\n",
    "        model=Nutrient,\n",
    "        from_attr='lower_bound',\n",
    "        within=NonNegativeReals,\n",
    "        default=0.0\n",
    "    )\n",
    "    nutrient_upper_bound = ORMParam(\n",
    "        'nutrients',\n",
    "        model=Nutrient,\n",
    "        from_attr='upper_bound',\n",
    "        within=NonNegativeReals,\n",
    "        default=infinity\n",
    "    )\n"
   ]
  },
  {
   "cell_type": "code",
   "execution_count": 5,
   "metadata": {},
   "outputs": [],
   "source": [
    "diet = DietProblem(\n",
    "    name='Diet Problem', \n",
    "    description=\"\"\"\n",
    "From a selection of foods curate a meal plan that meets nutrient requirements at lowest cost\n",
    "\"\"\"\n",
    ")"
   ]
  },
  {
   "cell_type": "code",
   "execution_count": 6,
   "metadata": {},
   "outputs": [],
   "source": [
    "diet.define_sets()"
   ]
  },
  {
   "cell_type": "code",
   "execution_count": 7,
   "metadata": {},
   "outputs": [],
   "source": [
    "diet.define_params()"
   ]
  },
  {
   "cell_type": "code",
   "execution_count": 8,
   "metadata": {},
   "outputs": [
    {
     "data": {
      "text/plain": [
       "{'_constructed': False,\n",
       " '_ctypes': {pyomo.core.base.sets.Set: [0, 1, 2],\n",
       "  pyomo.core.base.param.Param: [2, 6, 5]},\n",
       " '_data': {None: <pyomo.core.base.PyomoModel.AbstractModel at 0x2a658237510>},\n",
       " '_decl': {'amount': 2,\n",
       "  'cost': 3,\n",
       "  'foods': 0,\n",
       "  'nutrient_lower_bound': 4,\n",
       "  'nutrient_upper_bound': 5,\n",
       "  'nutrients': 1,\n",
       "  'volume_per_serving': 6},\n",
       " '_decl_order': [(<pyomo.core.base.sets.SimpleSet at 0x2a658286818>, 1),\n",
       "  (<pyomo.core.base.sets.SimpleSet at 0x2a6582869a8>, None),\n",
       "  (<pyomo.core.base.param.SimpleParam at 0x2a658232870>, 3),\n",
       "  (<pyomo.core.base.param.SimpleParam at 0x2a655916630>, 4),\n",
       "  (<pyomo.core.base.param.SimpleParam at 0x2a658232990>, 5),\n",
       "  (<pyomo.core.base.param.SimpleParam at 0x2a658232240>, 6),\n",
       "  (<pyomo.core.base.param.SimpleParam at 0x2a658232ab0>, None)],\n",
       " '_implicit_subsets': None,\n",
       " '_index': {None},\n",
       " '_name': 'unknown',\n",
       " '_options': None,\n",
       " '_parent': None,\n",
       " '_rule': None,\n",
       " '_suppress_ctypes': set(),\n",
       " '_type': pyomo.core.base.block.Block,\n",
       " 'amount': <pyomo.core.base.param.SimpleParam at 0x2a658232870>,\n",
       " 'config': PyomoConfig(preprocessor = 'pyomo.model.simple_preprocessor'),\n",
       " 'cost': <pyomo.core.base.param.SimpleParam at 0x2a655916630>,\n",
       " 'doc': None,\n",
       " 'foods': <pyomo.core.base.sets.SimpleSet at 0x2a658286818>,\n",
       " 'nutrient_lower_bound': <pyomo.core.base.param.SimpleParam at 0x2a658232990>,\n",
       " 'nutrient_upper_bound': <pyomo.core.base.param.SimpleParam at 0x2a658232240>,\n",
       " 'nutrients': <pyomo.core.base.sets.SimpleSet at 0x2a6582869a8>,\n",
       " 'solutions': <pyomo.core.base.PyomoModel.ModelSolutions at 0x2a658241b38>,\n",
       " 'statistics': Container(),\n",
       " 'volume_per_serving': <pyomo.core.base.param.SimpleParam at 0x2a658232ab0>}"
      ]
     },
     "execution_count": 8,
     "metadata": {},
     "output_type": "execute_result"
    }
   ],
   "source": [
    "diet.pyomo_model.__dict__"
   ]
  },
  {
   "cell_type": "code",
   "execution_count": null,
   "metadata": {
    "collapsed": true
   },
   "outputs": [],
   "source": []
  }
 ],
 "metadata": {
  "kernelspec": {
   "display_name": "Python 3",
   "language": "python",
   "name": "python3"
  },
  "language_info": {
   "codemirror_mode": {
    "name": "ipython",
    "version": 3
   },
   "file_extension": ".py",
   "mimetype": "text/x-python",
   "name": "python",
   "nbconvert_exporter": "python",
   "pygments_lexer": "ipython3",
   "version": "3.6.1"
  }
 },
 "nbformat": 4,
 "nbformat_minor": 2
}
